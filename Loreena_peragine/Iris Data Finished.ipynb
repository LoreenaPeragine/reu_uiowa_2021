{
 "cells": [
  {
   "cell_type": "code",
   "execution_count": 20,
   "id": "21e2a3c0",
   "metadata": {},
   "outputs": [],
   "source": [
    "# Here we import the keras API and the Dataset \n",
    "# The Keras API allows us to build models \n",
    "import numpy as np\n",
    "import keras\n",
    "from sklearn.datasets import load_iris\n",
    "\n",
    "# From sklearn as well\n",
    "from sklearn.model_selection import train_test_split"
   ]
  },
  {
   "cell_type": "code",
   "execution_count": 26,
   "id": "0ed4422a",
   "metadata": {},
   "outputs": [
    {
     "name": "stdout",
     "output_type": "stream",
     "text": [
      "Number of train examples: (105, 4)\n",
      "Number of test examples: (45, 4)\n",
      "Number of train features: (105,)\n",
      "Number of test features: (45,)\n"
     ]
    }
   ],
   "source": [
    "# Load the data and seperate it into the training and testing section\n",
    "iris = load_iris()\n",
    "x = iris.data\n",
    "y = iris.target\n",
    "\n",
    "x_train, x_test, y_train, y_test = train_test_split(x, y, test_size=0.3, random_state=42)\n",
    "\n",
    "# This is the data (x)\n",
    "print('Number of train examples:', x_train.shape)\n",
    "print('Number of test examples:', x_test.shape)\n",
    "\n",
    "# these represent the ouput for the data (y)\n",
    "print('Number of train features:', y_train.shape)\n",
    "print('Number of test features:', y_test.shape)\n",
    "\n",
    "# The reason we have the data broken up into two sections is to update the model (train)\n",
    "# and then see how well it preforms with new information (testing)"
   ]
  },
  {
   "cell_type": "code",
   "execution_count": 27,
   "id": "0db84056",
   "metadata": {},
   "outputs": [],
   "source": [
    "keras.backend.clear_session()\n",
    "np.random.seed(42)\n",
    "tf.random.set_seed(42)\n",
    "\n",
    "# sequential is a type of feed forward model\n",
    "model = keras.models.Sequential([\n",
    "    # fully connected layer with 300 nodes, takes in 4 features - length and width of sepals and petals\n",
    "    keras.layers.Dense(300, input_shape=(4,), activation=\"relu\"),\n",
    "    keras.layers.Dropout(rate=0.2),\n",
    "    # another fully connected layer with 100 nodes\n",
    "    keras.layers.Dense(100, activation=\"relu\", kernel_initializer=\"he_normal\"),\n",
    "    keras.layers.Dropout(rate=0.2),\n",
    "    # another fully connected layer with 500 nodes\n",
    "    keras.layers.Dense(500, activation=\"relu\", kernel_initializer=\"he_normal\"),\n",
    "    keras.layers.Dropout(rate=0.2),\n",
    "    # another fully connected layer with 3 nodes \n",
    "    keras.layers.Dense(3, activation=\"softmax\")\n",
    "])"
   ]
  },
  {
   "cell_type": "code",
   "execution_count": 28,
   "id": "8ba956b3",
   "metadata": {},
   "outputs": [
    {
     "name": "stdout",
     "output_type": "stream",
     "text": [
      "Model: \"sequential\"\n",
      "_________________________________________________________________\n",
      "Layer (type)                 Output Shape              Param #   \n",
      "=================================================================\n",
      "dense (Dense)                (None, 300)               1500      \n",
      "_________________________________________________________________\n",
      "dropout (Dropout)            (None, 300)               0         \n",
      "_________________________________________________________________\n",
      "dense_1 (Dense)              (None, 100)               30100     \n",
      "_________________________________________________________________\n",
      "dropout_1 (Dropout)          (None, 100)               0         \n",
      "_________________________________________________________________\n",
      "dense_2 (Dense)              (None, 500)               50500     \n",
      "_________________________________________________________________\n",
      "dropout_2 (Dropout)          (None, 500)               0         \n",
      "_________________________________________________________________\n",
      "dense_3 (Dense)              (None, 3)                 1503      \n",
      "=================================================================\n",
      "Total params: 83,603\n",
      "Trainable params: 83,603\n",
      "Non-trainable params: 0\n",
      "_________________________________________________________________\n"
     ]
    }
   ],
   "source": [
    "model.summary()"
   ]
  },
  {
   "cell_type": "code",
   "execution_count": 24,
   "id": "43ecb1dc",
   "metadata": {},
   "outputs": [],
   "source": [
    "# plot_model(model, show_shapes=True, show_layer_names=True) - I can't get this piece to execute ):"
   ]
  },
  {
   "cell_type": "code",
   "execution_count": 30,
   "id": "24a7a7a1",
   "metadata": {},
   "outputs": [
    {
     "name": "stdout",
     "output_type": "stream",
     "text": [
      "Epoch 1/50\n",
      "1/1 [==============================] - 0s 190ms/step - loss: 0.7247 - accuracy: 0.6809 - val_loss: 0.6065 - val_accuracy: 0.9091\n",
      "Epoch 2/50\n",
      "1/1 [==============================] - 0s 22ms/step - loss: 0.6831 - accuracy: 0.7234 - val_loss: 0.5730 - val_accuracy: 0.9091\n",
      "Epoch 3/50\n",
      "1/1 [==============================] - 0s 24ms/step - loss: 0.6021 - accuracy: 0.6915 - val_loss: 0.5465 - val_accuracy: 0.6364\n",
      "Epoch 4/50\n",
      "1/1 [==============================] - 0s 25ms/step - loss: 0.5923 - accuracy: 0.7021 - val_loss: 0.5224 - val_accuracy: 0.7273\n",
      "Epoch 5/50\n",
      "1/1 [==============================] - 0s 27ms/step - loss: 0.4963 - accuracy: 0.7660 - val_loss: 0.5034 - val_accuracy: 0.9091\n",
      "Epoch 6/50\n",
      "1/1 [==============================] - 0s 35ms/step - loss: 0.5268 - accuracy: 0.7340 - val_loss: 0.4967 - val_accuracy: 1.0000\n",
      "Epoch 7/50\n",
      "1/1 [==============================] - 0s 35ms/step - loss: 0.5166 - accuracy: 0.7447 - val_loss: 0.4904 - val_accuracy: 1.0000\n",
      "Epoch 8/50\n",
      "1/1 [==============================] - 0s 24ms/step - loss: 0.4680 - accuracy: 0.8085 - val_loss: 0.4810 - val_accuracy: 1.0000\n",
      "Epoch 9/50\n",
      "1/1 [==============================] - 0s 29ms/step - loss: 0.5274 - accuracy: 0.7447 - val_loss: 0.4467 - val_accuracy: 1.0000\n",
      "Epoch 10/50\n",
      "1/1 [==============================] - 0s 32ms/step - loss: 0.4949 - accuracy: 0.7340 - val_loss: 0.4241 - val_accuracy: 0.9091\n",
      "Epoch 11/50\n",
      "1/1 [==============================] - 0s 29ms/step - loss: 0.5251 - accuracy: 0.7340 - val_loss: 0.4117 - val_accuracy: 0.9091\n",
      "Epoch 12/50\n",
      "1/1 [==============================] - 0s 31ms/step - loss: 0.4008 - accuracy: 0.8298 - val_loss: 0.3963 - val_accuracy: 0.9091\n",
      "Epoch 13/50\n",
      "1/1 [==============================] - 0s 33ms/step - loss: 0.4558 - accuracy: 0.7447 - val_loss: 0.3901 - val_accuracy: 1.0000\n",
      "Epoch 14/50\n",
      "1/1 [==============================] - 0s 33ms/step - loss: 0.4467 - accuracy: 0.7872 - val_loss: 0.3929 - val_accuracy: 1.0000\n",
      "Epoch 15/50\n",
      "1/1 [==============================] - 0s 25ms/step - loss: 0.4153 - accuracy: 0.8085 - val_loss: 0.3828 - val_accuracy: 1.0000\n",
      "Epoch 16/50\n",
      "1/1 [==============================] - 0s 25ms/step - loss: 0.3927 - accuracy: 0.7979 - val_loss: 0.3558 - val_accuracy: 1.0000\n",
      "Epoch 17/50\n",
      "1/1 [==============================] - 0s 30ms/step - loss: 0.3703 - accuracy: 0.8404 - val_loss: 0.3303 - val_accuracy: 1.0000\n",
      "Epoch 18/50\n",
      "1/1 [==============================] - 0s 33ms/step - loss: 0.4111 - accuracy: 0.7553 - val_loss: 0.3129 - val_accuracy: 1.0000\n",
      "Epoch 19/50\n",
      "1/1 [==============================] - 0s 35ms/step - loss: 0.3462 - accuracy: 0.8298 - val_loss: 0.2861 - val_accuracy: 1.0000\n",
      "Epoch 20/50\n",
      "1/1 [==============================] - 0s 39ms/step - loss: 0.3702 - accuracy: 0.8191 - val_loss: 0.2670 - val_accuracy: 1.0000\n",
      "Epoch 21/50\n",
      "1/1 [==============================] - 0s 31ms/step - loss: 0.3679 - accuracy: 0.8298 - val_loss: 0.2525 - val_accuracy: 1.0000\n",
      "Epoch 22/50\n",
      "1/1 [==============================] - 0s 35ms/step - loss: 0.3391 - accuracy: 0.8404 - val_loss: 0.2455 - val_accuracy: 1.0000\n",
      "Epoch 23/50\n",
      "1/1 [==============================] - 0s 30ms/step - loss: 0.3853 - accuracy: 0.8085 - val_loss: 0.2338 - val_accuracy: 1.0000\n",
      "Epoch 24/50\n",
      "1/1 [==============================] - 0s 32ms/step - loss: 0.3726 - accuracy: 0.8191 - val_loss: 0.2102 - val_accuracy: 1.0000\n",
      "Epoch 25/50\n",
      "1/1 [==============================] - 0s 34ms/step - loss: 0.3532 - accuracy: 0.8511 - val_loss: 0.1958 - val_accuracy: 1.0000\n",
      "Epoch 26/50\n",
      "1/1 [==============================] - 0s 24ms/step - loss: 0.2922 - accuracy: 0.8936 - val_loss: 0.1798 - val_accuracy: 1.0000\n",
      "Epoch 27/50\n",
      "1/1 [==============================] - 0s 33ms/step - loss: 0.2855 - accuracy: 0.8723 - val_loss: 0.1672 - val_accuracy: 1.0000\n",
      "Epoch 28/50\n",
      "1/1 [==============================] - 0s 28ms/step - loss: 0.2830 - accuracy: 0.9043 - val_loss: 0.1523 - val_accuracy: 1.0000\n",
      "Epoch 29/50\n",
      "1/1 [==============================] - 0s 30ms/step - loss: 0.2553 - accuracy: 0.9149 - val_loss: 0.1402 - val_accuracy: 1.0000\n",
      "Epoch 30/50\n",
      "1/1 [==============================] - 0s 26ms/step - loss: 0.2220 - accuracy: 0.8936 - val_loss: 0.1282 - val_accuracy: 1.0000\n",
      "Epoch 31/50\n",
      "1/1 [==============================] - 0s 31ms/step - loss: 0.1904 - accuracy: 0.9468 - val_loss: 0.1201 - val_accuracy: 1.0000\n",
      "Epoch 32/50\n",
      "1/1 [==============================] - 0s 32ms/step - loss: 0.2485 - accuracy: 0.9043 - val_loss: 0.1244 - val_accuracy: 1.0000\n",
      "Epoch 33/50\n",
      "1/1 [==============================] - 0s 25ms/step - loss: 0.2318 - accuracy: 0.9255 - val_loss: 0.1329 - val_accuracy: 1.0000\n",
      "Epoch 34/50\n",
      "1/1 [==============================] - 0s 29ms/step - loss: 0.2756 - accuracy: 0.8723 - val_loss: 0.1003 - val_accuracy: 1.0000\n",
      "Epoch 35/50\n",
      "1/1 [==============================] - 0s 29ms/step - loss: 0.2552 - accuracy: 0.8830 - val_loss: 0.0850 - val_accuracy: 1.0000\n",
      "Epoch 36/50\n",
      "1/1 [==============================] - 0s 24ms/step - loss: 0.1623 - accuracy: 0.9362 - val_loss: 0.0885 - val_accuracy: 1.0000\n",
      "Epoch 37/50\n",
      "1/1 [==============================] - 0s 26ms/step - loss: 0.2423 - accuracy: 0.8936 - val_loss: 0.0795 - val_accuracy: 1.0000\n",
      "Epoch 38/50\n",
      "1/1 [==============================] - 0s 32ms/step - loss: 0.2838 - accuracy: 0.8617 - val_loss: 0.0643 - val_accuracy: 1.0000\n",
      "Epoch 39/50\n",
      "1/1 [==============================] - 0s 30ms/step - loss: 0.1849 - accuracy: 0.9362 - val_loss: 0.0884 - val_accuracy: 1.0000\n",
      "Epoch 40/50\n",
      "1/1 [==============================] - 0s 32ms/step - loss: 0.2627 - accuracy: 0.9043 - val_loss: 0.1063 - val_accuracy: 1.0000\n",
      "Epoch 41/50\n",
      "1/1 [==============================] - 0s 23ms/step - loss: 0.2255 - accuracy: 0.8830 - val_loss: 0.0754 - val_accuracy: 1.0000\n",
      "Epoch 42/50\n",
      "1/1 [==============================] - 0s 30ms/step - loss: 0.2094 - accuracy: 0.9043 - val_loss: 0.0495 - val_accuracy: 1.0000\n",
      "Epoch 43/50\n",
      "1/1 [==============================] - 0s 33ms/step - loss: 0.1932 - accuracy: 0.9574 - val_loss: 0.0487 - val_accuracy: 1.0000\n",
      "Epoch 44/50\n",
      "1/1 [==============================] - 0s 24ms/step - loss: 0.2008 - accuracy: 0.9255 - val_loss: 0.0498 - val_accuracy: 1.0000\n",
      "Epoch 45/50\n",
      "1/1 [==============================] - 0s 34ms/step - loss: 0.2879 - accuracy: 0.8723 - val_loss: 0.0428 - val_accuracy: 1.0000\n",
      "Epoch 46/50\n",
      "1/1 [==============================] - 0s 26ms/step - loss: 0.2347 - accuracy: 0.9043 - val_loss: 0.0420 - val_accuracy: 1.0000\n",
      "Epoch 47/50\n",
      "1/1 [==============================] - 0s 25ms/step - loss: 0.1592 - accuracy: 0.9574 - val_loss: 0.0483 - val_accuracy: 1.0000\n",
      "Epoch 48/50\n",
      "1/1 [==============================] - 0s 43ms/step - loss: 0.1986 - accuracy: 0.9043 - val_loss: 0.0468 - val_accuracy: 1.0000\n",
      "Epoch 49/50\n",
      "1/1 [==============================] - 0s 38ms/step - loss: 0.2300 - accuracy: 0.8723 - val_loss: 0.0388 - val_accuracy: 1.0000\n",
      "Epoch 50/50\n",
      "1/1 [==============================] - 0s 30ms/step - loss: 0.2190 - accuracy: 0.8936 - val_loss: 0.0372 - val_accuracy: 1.0000\n"
     ]
    }
   ],
   "source": [
    "model.compile(optimizer=keras.optimizers.Adam(lr=0.001), loss=\"sparse_categorical_crossentropy\", metrics=[\"accuracy\"])\n",
    "history = model.fit(x_train, y_train, batch_size=256, epochs=50, verbose=True, validation_split=.1)"
   ]
  },
  {
   "cell_type": "code",
   "execution_count": 7,
   "id": "727a674a",
   "metadata": {},
   "outputs": [],
   "source": [
    "import tensorflow as tf\n",
    "tf.keras.backend.clear_session()"
   ]
  }
 ],
 "metadata": {
  "kernelspec": {
   "display_name": "Python 3",
   "language": "python",
   "name": "python3"
  },
  "language_info": {
   "codemirror_mode": {
    "name": "ipython",
    "version": 3
   },
   "file_extension": ".py",
   "mimetype": "text/x-python",
   "name": "python",
   "nbconvert_exporter": "python",
   "pygments_lexer": "ipython3",
   "version": "3.8.8"
  }
 },
 "nbformat": 4,
 "nbformat_minor": 5
}
